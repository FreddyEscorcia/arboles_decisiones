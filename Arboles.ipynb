{
 "cells": [
  {
   "cell_type": "markdown",
   "id": "ee1c6b98",
   "metadata": {},
   "source": [
    "## Arboles de decisión"
   ]
  },
  {
   "cell_type": "code",
   "execution_count": 1,
   "id": "0e17d268",
   "metadata": {},
   "outputs": [],
   "source": [
    "import pandas as pd\n",
    "import numpy as np\n",
    "import matplotlib.pyplot as plt\n",
    "from sklearn.model_selection import train_test_split\n",
    "from sklearn.tree import DecisionTreeClassifier, plot_tree\n",
    "from sklearn.metrics import accuracy_score"
   ]
  },
  {
   "cell_type": "code",
   "execution_count": 2,
   "id": "9be36053",
   "metadata": {},
   "outputs": [],
   "source": [
    "# Nombres de las columnas\n",
    "column_names = ['Class', 'Alcohol', 'MalicAcid', 'Ash', 'AlcalinityOfAsh', \n",
    "                'Magnesium', 'TotalPhenols', 'Flavanoids', 'NonflavanoidPhenols', \n",
    "                'Proanthocyanins', 'ColorIntensity', 'Hue', 'OD280_OD315', 'Proline']"
   ]
  },
  {
   "cell_type": "code",
   "execution_count": 3,
   "id": "60a7e564",
   "metadata": {},
   "outputs": [],
   "source": [
    "##data = pd.read_csv('D:/UNAD/Semestre 4-6/ANÁLISIS DE DATOS - (202016908A_1394)/Etapa 2-Diseño/árboles de decisión/wine.data',  names=column_names, delimiter=',')\n",
    "data = pd.read_csv('wine.data',  names=column_names, delimiter=',')"
   ]
  },
  {
   "cell_type": "code",
   "execution_count": 4,
   "id": "3a5296ca",
   "metadata": {},
   "outputs": [],
   "source": [
    "##with open('D:/UNAD/Semestre 4-6/ANÁLISIS DE DATOS - (202016908A_1394)/Etapa 2-Diseño/árboles de decisión/wine.names', 'r') as names_file:\n",
    "with open('wine.names', 'r') as names_file:\n",
    "    lines = names_file.readlines()\n",
    "    info_lines = [line.strip() for line in lines if line.strip()]\n",
    "info = '\\n'.join(info_lines)\n"
   ]
  },
  {
   "cell_type": "code",
   "execution_count": 5,
   "id": "95a1b641",
   "metadata": {},
   "outputs": [],
   "source": [
    "data['Info'] = info"
   ]
  },
  {
   "cell_type": "code",
   "execution_count": 6,
   "id": "16c9bc23",
   "metadata": {},
   "outputs": [
    {
     "data": {
      "text/html": [
       "<div>\n",
       "<style scoped>\n",
       "    .dataframe tbody tr th:only-of-type {\n",
       "        vertical-align: middle;\n",
       "    }\n",
       "\n",
       "    .dataframe tbody tr th {\n",
       "        vertical-align: top;\n",
       "    }\n",
       "\n",
       "    .dataframe thead th {\n",
       "        text-align: right;\n",
       "    }\n",
       "</style>\n",
       "<table border=\"1\" class=\"dataframe\">\n",
       "  <thead>\n",
       "    <tr style=\"text-align: right;\">\n",
       "      <th></th>\n",
       "      <th>Class</th>\n",
       "      <th>Alcohol</th>\n",
       "      <th>MalicAcid</th>\n",
       "      <th>Ash</th>\n",
       "      <th>AlcalinityOfAsh</th>\n",
       "      <th>Magnesium</th>\n",
       "      <th>TotalPhenols</th>\n",
       "      <th>Flavanoids</th>\n",
       "      <th>NonflavanoidPhenols</th>\n",
       "      <th>Proanthocyanins</th>\n",
       "      <th>ColorIntensity</th>\n",
       "      <th>Hue</th>\n",
       "      <th>OD280_OD315</th>\n",
       "      <th>Proline</th>\n",
       "      <th>Info</th>\n",
       "    </tr>\n",
       "  </thead>\n",
       "  <tbody>\n",
       "    <tr>\n",
       "      <th>0</th>\n",
       "      <td>1</td>\n",
       "      <td>14.23</td>\n",
       "      <td>1.71</td>\n",
       "      <td>2.43</td>\n",
       "      <td>15.6</td>\n",
       "      <td>127</td>\n",
       "      <td>2.80</td>\n",
       "      <td>3.06</td>\n",
       "      <td>0.28</td>\n",
       "      <td>2.29</td>\n",
       "      <td>5.64</td>\n",
       "      <td>1.04</td>\n",
       "      <td>3.92</td>\n",
       "      <td>1065</td>\n",
       "      <td>1. Title of Database: Wine recognition data\\nU...</td>\n",
       "    </tr>\n",
       "    <tr>\n",
       "      <th>1</th>\n",
       "      <td>1</td>\n",
       "      <td>13.20</td>\n",
       "      <td>1.78</td>\n",
       "      <td>2.14</td>\n",
       "      <td>11.2</td>\n",
       "      <td>100</td>\n",
       "      <td>2.65</td>\n",
       "      <td>2.76</td>\n",
       "      <td>0.26</td>\n",
       "      <td>1.28</td>\n",
       "      <td>4.38</td>\n",
       "      <td>1.05</td>\n",
       "      <td>3.40</td>\n",
       "      <td>1050</td>\n",
       "      <td>1. Title of Database: Wine recognition data\\nU...</td>\n",
       "    </tr>\n",
       "    <tr>\n",
       "      <th>2</th>\n",
       "      <td>1</td>\n",
       "      <td>13.16</td>\n",
       "      <td>2.36</td>\n",
       "      <td>2.67</td>\n",
       "      <td>18.6</td>\n",
       "      <td>101</td>\n",
       "      <td>2.80</td>\n",
       "      <td>3.24</td>\n",
       "      <td>0.30</td>\n",
       "      <td>2.81</td>\n",
       "      <td>5.68</td>\n",
       "      <td>1.03</td>\n",
       "      <td>3.17</td>\n",
       "      <td>1185</td>\n",
       "      <td>1. Title of Database: Wine recognition data\\nU...</td>\n",
       "    </tr>\n",
       "    <tr>\n",
       "      <th>3</th>\n",
       "      <td>1</td>\n",
       "      <td>14.37</td>\n",
       "      <td>1.95</td>\n",
       "      <td>2.50</td>\n",
       "      <td>16.8</td>\n",
       "      <td>113</td>\n",
       "      <td>3.85</td>\n",
       "      <td>3.49</td>\n",
       "      <td>0.24</td>\n",
       "      <td>2.18</td>\n",
       "      <td>7.80</td>\n",
       "      <td>0.86</td>\n",
       "      <td>3.45</td>\n",
       "      <td>1480</td>\n",
       "      <td>1. Title of Database: Wine recognition data\\nU...</td>\n",
       "    </tr>\n",
       "    <tr>\n",
       "      <th>4</th>\n",
       "      <td>1</td>\n",
       "      <td>13.24</td>\n",
       "      <td>2.59</td>\n",
       "      <td>2.87</td>\n",
       "      <td>21.0</td>\n",
       "      <td>118</td>\n",
       "      <td>2.80</td>\n",
       "      <td>2.69</td>\n",
       "      <td>0.39</td>\n",
       "      <td>1.82</td>\n",
       "      <td>4.32</td>\n",
       "      <td>1.04</td>\n",
       "      <td>2.93</td>\n",
       "      <td>735</td>\n",
       "      <td>1. Title of Database: Wine recognition data\\nU...</td>\n",
       "    </tr>\n",
       "  </tbody>\n",
       "</table>\n",
       "</div>"
      ],
      "text/plain": [
       "   Class  Alcohol  MalicAcid   Ash  AlcalinityOfAsh  Magnesium  TotalPhenols  \\\n",
       "0      1    14.23       1.71  2.43             15.6        127          2.80   \n",
       "1      1    13.20       1.78  2.14             11.2        100          2.65   \n",
       "2      1    13.16       2.36  2.67             18.6        101          2.80   \n",
       "3      1    14.37       1.95  2.50             16.8        113          3.85   \n",
       "4      1    13.24       2.59  2.87             21.0        118          2.80   \n",
       "\n",
       "   Flavanoids  NonflavanoidPhenols  Proanthocyanins  ColorIntensity   Hue  \\\n",
       "0        3.06                 0.28             2.29            5.64  1.04   \n",
       "1        2.76                 0.26             1.28            4.38  1.05   \n",
       "2        3.24                 0.30             2.81            5.68  1.03   \n",
       "3        3.49                 0.24             2.18            7.80  0.86   \n",
       "4        2.69                 0.39             1.82            4.32  1.04   \n",
       "\n",
       "   OD280_OD315  Proline                                               Info  \n",
       "0         3.92     1065  1. Title of Database: Wine recognition data\\nU...  \n",
       "1         3.40     1050  1. Title of Database: Wine recognition data\\nU...  \n",
       "2         3.17     1185  1. Title of Database: Wine recognition data\\nU...  \n",
       "3         3.45     1480  1. Title of Database: Wine recognition data\\nU...  \n",
       "4         2.93      735  1. Title of Database: Wine recognition data\\nU...  "
      ]
     },
     "execution_count": 6,
     "metadata": {},
     "output_type": "execute_result"
    }
   ],
   "source": [
    "data.head()"
   ]
  },
  {
   "cell_type": "code",
   "execution_count": 7,
   "id": "8c3ce3ad",
   "metadata": {},
   "outputs": [
    {
     "data": {
      "text/plain": [
       "(178, 15)"
      ]
     },
     "execution_count": 7,
     "metadata": {},
     "output_type": "execute_result"
    }
   ],
   "source": [
    "data.shape"
   ]
  },
  {
   "cell_type": "code",
   "execution_count": 8,
   "id": "0a9e22c0",
   "metadata": {},
   "outputs": [
    {
     "data": {
      "text/html": [
       "<div>\n",
       "<style scoped>\n",
       "    .dataframe tbody tr th:only-of-type {\n",
       "        vertical-align: middle;\n",
       "    }\n",
       "\n",
       "    .dataframe tbody tr th {\n",
       "        vertical-align: top;\n",
       "    }\n",
       "\n",
       "    .dataframe thead th {\n",
       "        text-align: right;\n",
       "    }\n",
       "</style>\n",
       "<table border=\"1\" class=\"dataframe\">\n",
       "  <thead>\n",
       "    <tr style=\"text-align: right;\">\n",
       "      <th></th>\n",
       "      <th>Class</th>\n",
       "      <th>Alcohol</th>\n",
       "      <th>MalicAcid</th>\n",
       "      <th>Ash</th>\n",
       "      <th>AlcalinityOfAsh</th>\n",
       "      <th>Magnesium</th>\n",
       "      <th>TotalPhenols</th>\n",
       "      <th>Flavanoids</th>\n",
       "      <th>NonflavanoidPhenols</th>\n",
       "      <th>Proanthocyanins</th>\n",
       "      <th>ColorIntensity</th>\n",
       "      <th>Hue</th>\n",
       "      <th>OD280_OD315</th>\n",
       "      <th>Proline</th>\n",
       "    </tr>\n",
       "  </thead>\n",
       "  <tbody>\n",
       "    <tr>\n",
       "      <th>count</th>\n",
       "      <td>178.000000</td>\n",
       "      <td>178.000000</td>\n",
       "      <td>178.000000</td>\n",
       "      <td>178.000000</td>\n",
       "      <td>178.000000</td>\n",
       "      <td>178.000000</td>\n",
       "      <td>178.000000</td>\n",
       "      <td>178.000000</td>\n",
       "      <td>178.000000</td>\n",
       "      <td>178.000000</td>\n",
       "      <td>178.000000</td>\n",
       "      <td>178.000000</td>\n",
       "      <td>178.000000</td>\n",
       "      <td>178.000000</td>\n",
       "    </tr>\n",
       "    <tr>\n",
       "      <th>mean</th>\n",
       "      <td>1.938202</td>\n",
       "      <td>13.000618</td>\n",
       "      <td>2.336348</td>\n",
       "      <td>2.366517</td>\n",
       "      <td>19.494944</td>\n",
       "      <td>99.741573</td>\n",
       "      <td>2.295112</td>\n",
       "      <td>2.029270</td>\n",
       "      <td>0.361854</td>\n",
       "      <td>1.590899</td>\n",
       "      <td>5.058090</td>\n",
       "      <td>0.957449</td>\n",
       "      <td>2.611685</td>\n",
       "      <td>746.893258</td>\n",
       "    </tr>\n",
       "    <tr>\n",
       "      <th>std</th>\n",
       "      <td>0.775035</td>\n",
       "      <td>0.811827</td>\n",
       "      <td>1.117146</td>\n",
       "      <td>0.274344</td>\n",
       "      <td>3.339564</td>\n",
       "      <td>14.282484</td>\n",
       "      <td>0.625851</td>\n",
       "      <td>0.998859</td>\n",
       "      <td>0.124453</td>\n",
       "      <td>0.572359</td>\n",
       "      <td>2.318286</td>\n",
       "      <td>0.228572</td>\n",
       "      <td>0.709990</td>\n",
       "      <td>314.907474</td>\n",
       "    </tr>\n",
       "    <tr>\n",
       "      <th>min</th>\n",
       "      <td>1.000000</td>\n",
       "      <td>11.030000</td>\n",
       "      <td>0.740000</td>\n",
       "      <td>1.360000</td>\n",
       "      <td>10.600000</td>\n",
       "      <td>70.000000</td>\n",
       "      <td>0.980000</td>\n",
       "      <td>0.340000</td>\n",
       "      <td>0.130000</td>\n",
       "      <td>0.410000</td>\n",
       "      <td>1.280000</td>\n",
       "      <td>0.480000</td>\n",
       "      <td>1.270000</td>\n",
       "      <td>278.000000</td>\n",
       "    </tr>\n",
       "    <tr>\n",
       "      <th>25%</th>\n",
       "      <td>1.000000</td>\n",
       "      <td>12.362500</td>\n",
       "      <td>1.602500</td>\n",
       "      <td>2.210000</td>\n",
       "      <td>17.200000</td>\n",
       "      <td>88.000000</td>\n",
       "      <td>1.742500</td>\n",
       "      <td>1.205000</td>\n",
       "      <td>0.270000</td>\n",
       "      <td>1.250000</td>\n",
       "      <td>3.220000</td>\n",
       "      <td>0.782500</td>\n",
       "      <td>1.937500</td>\n",
       "      <td>500.500000</td>\n",
       "    </tr>\n",
       "    <tr>\n",
       "      <th>50%</th>\n",
       "      <td>2.000000</td>\n",
       "      <td>13.050000</td>\n",
       "      <td>1.865000</td>\n",
       "      <td>2.360000</td>\n",
       "      <td>19.500000</td>\n",
       "      <td>98.000000</td>\n",
       "      <td>2.355000</td>\n",
       "      <td>2.135000</td>\n",
       "      <td>0.340000</td>\n",
       "      <td>1.555000</td>\n",
       "      <td>4.690000</td>\n",
       "      <td>0.965000</td>\n",
       "      <td>2.780000</td>\n",
       "      <td>673.500000</td>\n",
       "    </tr>\n",
       "    <tr>\n",
       "      <th>75%</th>\n",
       "      <td>3.000000</td>\n",
       "      <td>13.677500</td>\n",
       "      <td>3.082500</td>\n",
       "      <td>2.557500</td>\n",
       "      <td>21.500000</td>\n",
       "      <td>107.000000</td>\n",
       "      <td>2.800000</td>\n",
       "      <td>2.875000</td>\n",
       "      <td>0.437500</td>\n",
       "      <td>1.950000</td>\n",
       "      <td>6.200000</td>\n",
       "      <td>1.120000</td>\n",
       "      <td>3.170000</td>\n",
       "      <td>985.000000</td>\n",
       "    </tr>\n",
       "    <tr>\n",
       "      <th>max</th>\n",
       "      <td>3.000000</td>\n",
       "      <td>14.830000</td>\n",
       "      <td>5.800000</td>\n",
       "      <td>3.230000</td>\n",
       "      <td>30.000000</td>\n",
       "      <td>162.000000</td>\n",
       "      <td>3.880000</td>\n",
       "      <td>5.080000</td>\n",
       "      <td>0.660000</td>\n",
       "      <td>3.580000</td>\n",
       "      <td>13.000000</td>\n",
       "      <td>1.710000</td>\n",
       "      <td>4.000000</td>\n",
       "      <td>1680.000000</td>\n",
       "    </tr>\n",
       "  </tbody>\n",
       "</table>\n",
       "</div>"
      ],
      "text/plain": [
       "            Class     Alcohol   MalicAcid         Ash  AlcalinityOfAsh  \\\n",
       "count  178.000000  178.000000  178.000000  178.000000       178.000000   \n",
       "mean     1.938202   13.000618    2.336348    2.366517        19.494944   \n",
       "std      0.775035    0.811827    1.117146    0.274344         3.339564   \n",
       "min      1.000000   11.030000    0.740000    1.360000        10.600000   \n",
       "25%      1.000000   12.362500    1.602500    2.210000        17.200000   \n",
       "50%      2.000000   13.050000    1.865000    2.360000        19.500000   \n",
       "75%      3.000000   13.677500    3.082500    2.557500        21.500000   \n",
       "max      3.000000   14.830000    5.800000    3.230000        30.000000   \n",
       "\n",
       "        Magnesium  TotalPhenols  Flavanoids  NonflavanoidPhenols  \\\n",
       "count  178.000000    178.000000  178.000000           178.000000   \n",
       "mean    99.741573      2.295112    2.029270             0.361854   \n",
       "std     14.282484      0.625851    0.998859             0.124453   \n",
       "min     70.000000      0.980000    0.340000             0.130000   \n",
       "25%     88.000000      1.742500    1.205000             0.270000   \n",
       "50%     98.000000      2.355000    2.135000             0.340000   \n",
       "75%    107.000000      2.800000    2.875000             0.437500   \n",
       "max    162.000000      3.880000    5.080000             0.660000   \n",
       "\n",
       "       Proanthocyanins  ColorIntensity         Hue  OD280_OD315      Proline  \n",
       "count       178.000000      178.000000  178.000000   178.000000   178.000000  \n",
       "mean          1.590899        5.058090    0.957449     2.611685   746.893258  \n",
       "std           0.572359        2.318286    0.228572     0.709990   314.907474  \n",
       "min           0.410000        1.280000    0.480000     1.270000   278.000000  \n",
       "25%           1.250000        3.220000    0.782500     1.937500   500.500000  \n",
       "50%           1.555000        4.690000    0.965000     2.780000   673.500000  \n",
       "75%           1.950000        6.200000    1.120000     3.170000   985.000000  \n",
       "max           3.580000       13.000000    1.710000     4.000000  1680.000000  "
      ]
     },
     "execution_count": 8,
     "metadata": {},
     "output_type": "execute_result"
    }
   ],
   "source": [
    "data.describe()"
   ]
  },
  {
   "cell_type": "code",
   "execution_count": 9,
   "id": "1ff37c63",
   "metadata": {},
   "outputs": [
    {
     "data": {
      "text/plain": [
       "(array([59.,  0.,  0.,  0.,  0., 71.,  0.,  0.,  0., 48.]),\n",
       " array([1. , 1.2, 1.4, 1.6, 1.8, 2. , 2.2, 2.4, 2.6, 2.8, 3. ]),\n",
       " <BarContainer object of 10 artists>)"
      ]
     },
     "execution_count": 9,
     "metadata": {},
     "output_type": "execute_result"
    },
    {
     "data": {
      "image/png": "[encoded data removed]",
      "text/plain": [
       "<Figure size 640x480 with 1 Axes>"
      ]
     },
     "metadata": {},
     "output_type": "display_data"
    }
   ],
   "source": [
    "plt.hist(data.Class)"
   ]
  },
  {
   "cell_type": "code",
   "execution_count": 10,
   "id": "70e75e71",
   "metadata": {},
   "outputs": [],
   "source": [
    "predictors_col = [\"Alcohol\",\"MalicAcid\",\"Ash\",\"AlcalinityOfAsh\",\"Magnesium\",\"TotalPhenols\",\"Flavanoids\",\"NonflavanoidPhenols\",\"Proanthocyanins\",\"ColorIntensity\",\"Hue\",\"OD280_OD315\",\"Proline\"]\n",
    "target_col = [\"Class\"]"
   ]
  },
  {
   "cell_type": "code",
   "execution_count": 11,
   "id": "c5e983b4",
   "metadata": {},
   "outputs": [],
   "source": [
    "predictors = data[predictors_col]\n",
    "target = data[target_col]"
   ]
  },
  {
   "cell_type": "code",
   "execution_count": 12,
   "id": "2bcffa42",
   "metadata": {},
   "outputs": [],
   "source": [
    "X_train, X_test, y_train, y_test = train_test_split(predictors, target, test_size=0.25, random_state=13)"
   ]
  },
  {
   "cell_type": "code",
   "execution_count": 13,
   "id": "d5f57487",
   "metadata": {},
   "outputs": [],
   "source": [
    "tree = DecisionTreeClassifier()"
   ]
  },
  {
   "cell_type": "code",
   "execution_count": 14,
   "id": "053ca8a0",
   "metadata": {},
   "outputs": [],
   "source": [
    "arbol = tree.fit(X_train, y_train)"
   ]
  },
  {
   "cell_type": "code",
   "execution_count": 15,
   "id": "3b819a03",
   "metadata": {},
   "outputs": [
    {
     "data": {
      "text/plain": [
       "[Text(0.5294117647058824, 0.9166666666666666, 'x[12] <= 727.5\\ngini = 0.659\\nsamples = 133\\nvalue = [45, 52, 36]'),\n",
       " Text(0.29411764705882354, 0.75, 'x[11] <= 2.09\\ngini = 0.48\\nsamples = 79\\nvalue = [1, 49, 29]'),\n",
       " Text(0.17647058823529413, 0.5833333333333334, 'x[10] <= 0.945\\ngini = 0.225\\nsamples = 31\\nvalue = [0, 4, 27]'),\n",
       " Text(0.11764705882352941, 0.4166666666666667, 'x[6] <= 1.49\\ngini = 0.069\\nsamples = 28\\nvalue = [0, 1, 27]'),\n",
       " Text(0.058823529411764705, 0.25, 'gini = 0.0\\nsamples = 27\\nvalue = [0, 0, 27]'),\n",
       " Text(0.17647058823529413, 0.25, 'gini = 0.0\\nsamples = 1\\nvalue = [0, 1, 0]'),\n",
       " Text(0.23529411764705882, 0.4166666666666667, 'gini = 0.0\\nsamples = 3\\nvalue = [0, 3, 0]'),\n",
       " Text(0.4117647058823529, 0.5833333333333334, 'x[6] <= 0.795\\ngini = 0.119\\nsamples = 48\\nvalue = [1, 45, 2]'),\n",
       " Text(0.35294117647058826, 0.4166666666666667, 'gini = 0.0\\nsamples = 2\\nvalue = [0, 0, 2]'),\n",
       " Text(0.47058823529411764, 0.4166666666666667, 'x[1] <= 3.925\\ngini = 0.043\\nsamples = 46\\nvalue = [1, 45, 0]'),\n",
       " Text(0.4117647058823529, 0.25, 'gini = 0.0\\nsamples = 42\\nvalue = [0, 42, 0]'),\n",
       " Text(0.5294117647058824, 0.25, 'x[0] <= 13.145\\ngini = 0.375\\nsamples = 4\\nvalue = [1, 3, 0]'),\n",
       " Text(0.47058823529411764, 0.08333333333333333, 'gini = 0.0\\nsamples = 3\\nvalue = [0, 3, 0]'),\n",
       " Text(0.5882352941176471, 0.08333333333333333, 'gini = 0.0\\nsamples = 1\\nvalue = [1, 0, 0]'),\n",
       " Text(0.7647058823529411, 0.75, 'x[6] <= 2.165\\ngini = 0.316\\nsamples = 54\\nvalue = [44, 3, 7]'),\n",
       " Text(0.6470588235294118, 0.5833333333333334, 'x[1] <= 2.085\\ngini = 0.346\\nsamples = 9\\nvalue = [0, 2, 7]'),\n",
       " Text(0.5882352941176471, 0.4166666666666667, 'gini = 0.0\\nsamples = 2\\nvalue = [0, 2, 0]'),\n",
       " Text(0.7058823529411765, 0.4166666666666667, 'gini = 0.0\\nsamples = 7\\nvalue = [0, 0, 7]'),\n",
       " Text(0.8823529411764706, 0.5833333333333334, 'x[9] <= 3.435\\ngini = 0.043\\nsamples = 45\\nvalue = [44, 1, 0]'),\n",
       " Text(0.8235294117647058, 0.4166666666666667, 'gini = 0.0\\nsamples = 1\\nvalue = [0, 1, 0]'),\n",
       " Text(0.9411764705882353, 0.4166666666666667, 'gini = 0.0\\nsamples = 44\\nvalue = [44, 0, 0]')]"
      ]
     },
     "execution_count": 15,
     "metadata": {},
     "output_type": "execute_result"
    },
    {
     "data": {
      "image/png": "[encoded data removed]",
      "text/plain": [
       "<Figure size 640x480 with 1 Axes>"
      ]
     },
     "metadata": {},
     "output_type": "display_data"
    }
   ],
   "source": [
    "plot_tree(arbol)"
   ]
  },
  {
   "cell_type": "code",
   "execution_count": 16,
   "id": "6426099e",
   "metadata": {},
   "outputs": [],
   "source": [
    "predicciones = arbol.predict(X_test)"
   ]
  },
  {
   "cell_type": "code",
   "execution_count": 17,
   "id": "9dd22f63",
   "metadata": {},
   "outputs": [
    {
     "data": {
      "text/html": [
       "<div>\n",
       "<style scoped>\n",
       "    .dataframe tbody tr th:only-of-type {\n",
       "        vertical-align: middle;\n",
       "    }\n",
       "\n",
       "    .dataframe tbody tr th {\n",
       "        vertical-align: top;\n",
       "    }\n",
       "\n",
       "    .dataframe thead th {\n",
       "        text-align: right;\n",
       "    }\n",
       "</style>\n",
       "<table border=\"1\" class=\"dataframe\">\n",
       "  <thead>\n",
       "    <tr style=\"text-align: right;\">\n",
       "      <th>predicciones</th>\n",
       "      <th>1</th>\n",
       "      <th>2</th>\n",
       "      <th>3</th>\n",
       "    </tr>\n",
       "    <tr>\n",
       "      <th>Actual</th>\n",
       "      <th></th>\n",
       "      <th></th>\n",
       "      <th></th>\n",
       "    </tr>\n",
       "  </thead>\n",
       "  <tbody>\n",
       "    <tr>\n",
       "      <th>1</th>\n",
       "      <td>14</td>\n",
       "      <td>0</td>\n",
       "      <td>0</td>\n",
       "    </tr>\n",
       "    <tr>\n",
       "      <th>2</th>\n",
       "      <td>0</td>\n",
       "      <td>19</td>\n",
       "      <td>0</td>\n",
       "    </tr>\n",
       "    <tr>\n",
       "      <th>3</th>\n",
       "      <td>0</td>\n",
       "      <td>2</td>\n",
       "      <td>10</td>\n",
       "    </tr>\n",
       "  </tbody>\n",
       "</table>\n",
       "</div>"
      ],
      "text/plain": [
       "predicciones   1   2   3\n",
       "Actual                  \n",
       "1             14   0   0\n",
       "2              0  19   0\n",
       "3              0   2  10"
      ]
     },
     "execution_count": 17,
     "metadata": {},
     "output_type": "execute_result"
    }
   ],
   "source": [
    "#Examinamos la matriz de confunsión\n",
    "pd.crosstab(np.array([y[0] for y in y_test.values.tolist()]), predicciones, rownames=[\"Actual\"], colnames=[\"predicciones\"])"
   ]
  },
  {
   "cell_type": "code",
   "execution_count": 18,
   "id": "d99d1121",
   "metadata": {},
   "outputs": [
    {
     "data": {
      "text/plain": [
       "0.9555555555555556"
      ]
     },
     "execution_count": 18,
     "metadata": {},
     "output_type": "execute_result"
    }
   ],
   "source": [
    "accuracy = accuracy_score(y_test,predicciones)\n",
    "accuracy"
   ]
  }
 ],
 "metadata": {
  "kernelspec": {
   "display_name": "Python 3 (ipykernel)",
   "language": "python",
   "name": "python3"
  },
  "language_info": {
   "codemirror_mode": {
    "name": "ipython",
    "version": 3
   },
   "file_extension": ".py",
   "mimetype": "text/x-python",
   "name": "python",
   "nbconvert_exporter": "python",
   "pygments_lexer": "ipython3",
   "version": "3.11.4"
  }
 },
 "nbformat": 4,
 "nbformat_minor": 5
}
